{
 "cells": [
  {
   "cell_type": "code",
   "execution_count": 1,
   "id": "d1f675b3",
   "metadata": {},
   "outputs": [
    {
     "name": "stdout",
     "output_type": "stream",
     "text": [
      "Enter length of the password: 10\n",
      "Generated password :  .J(rn;Yp/R\n"
     ]
    }
   ],
   "source": [
    "import random\n",
    "import string\n",
    "\n",
    "def password_length():\n",
    "    while True:\n",
    "        passLength = int(input(\"Enter length of the password: \"))\n",
    "        if passLength >= 6:\n",
    "            return passLength\n",
    "        \n",
    "        elif passLength <=  0:\n",
    "            print(\"Please enter a positive integer.\")\n",
    "        \n",
    "        elif passLength < 6:\n",
    "            print(\"Please enter a integer greater than 6 for strong password.\")\n",
    "        \n",
    "\n",
    "def generatePassword(length):\n",
    "    chara = string.ascii_letters + string.digits + string.punctuation\n",
    "    passw= ''.join(random.choice(chara) for _ in range(length))\n",
    "    return passw\n",
    "\n",
    "def main():\n",
    "    passlen = password_length()\n",
    "    passw = generatePassword(passlen)\n",
    "    print(\"Generated password : \", passw)\n",
    "\n",
    "main()\n"
   ]
  },
  {
   "cell_type": "code",
   "execution_count": null,
   "id": "166ba8a0",
   "metadata": {},
   "outputs": [],
   "source": []
  }
 ],
 "metadata": {
  "kernelspec": {
   "display_name": "Python 3 (ipykernel)",
   "language": "python",
   "name": "python3"
  },
  "language_info": {
   "codemirror_mode": {
    "name": "ipython",
    "version": 3
   },
   "file_extension": ".py",
   "mimetype": "text/x-python",
   "name": "python",
   "nbconvert_exporter": "python",
   "pygments_lexer": "ipython3",
   "version": "3.11.4"
  }
 },
 "nbformat": 4,
 "nbformat_minor": 5
}
